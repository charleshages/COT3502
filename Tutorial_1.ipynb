{
  "nbformat": 4,
  "nbformat_minor": 0,
  "metadata": {
    "colab": {
      "provenance": [],
      "toc_visible": true,
      "authorship_tag": "ABX9TyPbdcDW1GryJ6yY1UOwgx81",
      "include_colab_link": true
    },
    "kernelspec": {
      "name": "python3",
      "display_name": "Python 3"
    },
    "language_info": {
      "name": "python"
    }
  },
  "cells": [
    {
      "cell_type": "markdown",
      "metadata": {
        "id": "view-in-github",
        "colab_type": "text"
      },
      "source": [
        "<a href=\"https://colab.research.google.com/github/charleshages/COT3502/blob/main/Tutorial_1.ipynb\" target=\"_parent\"><img src=\"https://colab.research.google.com/assets/colab-badge.svg\" alt=\"Open In Colab\"/></a>"
      ]
    },
    {
      "cell_type": "markdown",
      "source": [
        "# An Introduction to Python: 1. Getting Started\n"
      ],
      "metadata": {
        "id": "BaomJpjbA8SH"
      }
    },
    {
      "cell_type": "markdown",
      "source": [
        "## 1. What is Python?\n",
        "\n",
        "Python is a versatile programming language compatible with a wide range of operating systems, including Windows, Mac OS, Linux, and Android. As an interpreted language, Python can execute commands directly, eliminating the need for compilation."
      ],
      "metadata": {
        "id": "wC_3KevkDcM2"
      }
    },
    {
      "cell_type": "markdown",
      "source": [
        "## 2. Why Python?\n",
        "\n",
        "- **Open-source**: Python is free and open-source (meaning you can download the entire source code)\n",
        "- **Versatility**: Python is one of the fastest-growing programming languages globally due to its versatility and ease of use. It's suitable for various applications, from app/game development, website development, machine learning and AI, image processing, as well as advanced math and data science.\n",
        "- **Community Support**: Python is backed by a large community of programmers. This vast support community ensures that solutions to common problems are readily available. If coders run into a stumbling block or have a question about something in Python, finding a solution is relatively easy; somebody is bound to have encountered the same problem.\n",
        "- **Academic Preference**: Python has become the go-to computing language in academia. It offers the same (or even better) functionality and simplicity as other paid software like MatLab and Mathematica, but for free.\n",
        "- **Real-world Applications**: Python is not just popular in academia; it's also widely adopted in the industry. Here are some notable examples:\n",
        "\n",
        "  - **Web Development**: Websites like **Instagram**, **Pinterest**, and **Spotify** use Python, particularly the Django framework, for their backend.\n",
        "\n",
        "  - **Data Analysis and Visualization**: Companies like **Netflix** and **Dropbox** use Python for data analysis to gain insights and improve their services.\n",
        "\n",
        "  - **Artificial Intelligence and Machine Learning**: **Google** uses Python for its machine learning applications, and its TensorFlow library, one of the most popular ML libraries, is written in Python.\n",
        "\n",
        "  - **Finance**: **J.P. Morgan** and other major banks use Python for financial market forecasting.\n",
        "\n",
        "  - **Gaming**: Games like **Civilization IV** have used Python for various purposes, including scripting.\n",
        "\n",
        "  - **Scientific Computing**: Organizations like **NASA** and **CERN** use Python for scientific programming and data analysis.\n",
        "\n",
        "  - **Automation**: Many companies, big and small, use Python to automate repetitive tasks, from data entry to testing.\n",
        "\n",
        "  Python's versatility ensures its adoption across a myriad of applications, from web apps to scientific research."
      ],
      "metadata": {
        "id": "62x3L74WDhWm"
      }
    },
    {
      "cell_type": "markdown",
      "source": [
        "## 3. Installation\n",
        "\n",
        "- **Anaconda Distribution**: We recommend the Anaconda distribution of Python for this course. It bundles many essential packages beneficial for engineers and scientists. The distribution is open source and free. Along with these packages, Anaconda includes several applications that simplify various Python tasks. In this course, we'll primarily focus on **Spyder** and **Jupyter Notebook**.\n",
        "\n",
        "  - **Spyder** (an acronym for **S**cientific **Py**thon **D**evelopment **E**nvi**R**onment) offers a rich set of features for code editing, visualization, and debugging, especially tailored for scientific and mathematical applications. It's a comprehensive integrated development environment (IDE) where you can write (in `.py` files) and execute Python scripts. Additionally, it provides an interactive console. Spyder is particularly useful for developing longer or more complex scripts.\n",
        "\n",
        "  - **Jupyter Notebook** provides an interactive Python *notebook* environment (files have the `.ipynb` extension). In Jupyter Notebook, you can evaluate Python statements interactively, often in a line-by-line manner, making it ideal for interactive analysis or coding in a narrative nature. It's especially suited for simpler Python tasks or when you want to interweave code with text.\n",
        "    - Jupyter Notebooks can also be run on the popular [**Google Colab**](https://colab.google/) website, which is a service which hosts computing resources, allowing you to run Python without a local installation on your computer! We will use this service for interactive coding in Python during lectures.  \n",
        "    \n",
        "  - It's important to note that both Spyder and Jupyter Notebook execute Python in the same way. The primary distinction lies in their user interfaces and the workflows they cater to. Both are renowned in the fields of data science, machine learning, and scientific computing. Throughout this course, we'll explore both environments, allowing you to determine which interface aligns best with your tasks and preferences.\n",
        "\n",
        "- **Installation Steps**:\n",
        "  1. Visit [Anaconda's download page](https://www.anaconda.com/download).\n",
        "  2. Download the installer.\n",
        "  3. Follow the onscreen instructions. It's simplest to use default locations and options for everything.\n"
      ],
      "metadata": {
        "id": "H1GtG_M5DsdV"
      }
    },
    {
      "cell_type": "markdown",
      "source": [
        "## 4. Getting Started with Spyder\n",
        "\n",
        "- **Open \"Anaconda Navigator\"**: This application was installed in the previous step. Once open, you should see the following screen:\n",
        "\n",
        "![Anaconda Navigator Screenshot](https://drive.google.com/uc?export=view&id=11s_prROdW0Yv53uSIWaFdSWADqkfhjkW)\n",
        "\n",
        "- **Launching Spyder**: Launch the “Spyder” application.\n",
        "\n",
        "  > You can also launch Spyder directly from your saved applications without going through Anaconda Navigator.\n",
        "\n",
        "- **Spyder Layout**: Upon opening “Spyder”, you'll notice three main panels:\n",
        "  1. **Editor Window (Left)**: Where you can write and save Python scripts.\n",
        "  2. **Variable Explorer and File Explorer (Top Right)**: Displays variables in use and allows for easy file navigation.\n",
        "  3. **iPython Console (Bottom Right)**: An interactive Python shell to execute commands.\n",
        "\n",
        "  If this is your first time using Spyder, it may be helpful to click the “Start Tour” button when you first open the program.\n",
        "\n",
        "  ![Overview of Spyder IDE](https://drive.google.com/uc?export=view&id=1Z04gECw5SlQkAarh2bUOdlcu9AJ3M9Ar)"
      ],
      "metadata": {
        "id": "SUpfhoc1Dxa3"
      }
    },
    {
      "cell_type": "markdown",
      "source": [
        "## 5. Working with the iPython console in Spyder\n",
        "\n",
        "The most basic way to run individual statements is to use the iPython console.\n",
        "\n",
        "- **Your First Command**: In the iPython console (Bottom Right), type the following command and hit Enter:\n",
        "```\n",
        "  print('Hello World')\n",
        "  ```\n",
        "\n",
        "  > If you are having trouble, this process is shown in the image above\n",
        "\n",
        "- **Multiple Commands**: Multiple commands that rely on each other can also be run in the iPython console. For example, try typing the following command:\n",
        "```\n",
        "  a = 12\n",
        "  ```\n",
        "  now, enter this command:\n",
        "```\n",
        "  print(a+a)\n",
        "  ```\n",
        "  The console should display the value `24`. This works because the first command saved the variable `a` in the current instance of Python you are running. Therefore, when you told the computer to print the sum of `a` plus `a`, it has the value of `a` already saved and able to be recalled.\n",
        "\n",
        "  To see what variables are saved in the current instance of Python, look at the variable explorer in Spyder, which now shows that `a` is a saved variable:\n",
        "\n",
        "  ![Running a script in Spyder](https://drive.google.com/uc?export=view&id=1lerNjnw_QWMj-vZTzho8eZYW-xPseeE_)\n",
        "\n",
        "  > **Understanding the kernel**: In Spyder, the \"kernel\" is the Python engine that is currently running behind the scenes. When you run your code in Spyder, it's the Python \"kernel\" that's actually executing it and giving you back the results. Think of it as the \"brain\" where all your commands and operations are processed.\n",
        "  >\n",
        "  >To clear all the current variables saved in the kernel namespace, click the trash can icon that appears at the top of the iPython console panel. (try typing `print(a+a)` after clearning the variables; you should get an error because `a` is no longer saved as a variable.\n",
        "  >\n",
        "  > To reset the kernel, you can right-click in the iPython console panel and navigate to `Quit`. This will start a brand-new instance of Python (without having to restart Spyder). If your code gets stuck or you want to start fresh, you can restart the kernel this way to clear out all the current variables and computations. There is also a stop button that appears (next to the trash can icon) when the kernel is running a command; that can be clicked to abort a commmand if it get's stuck or you need to abort a lengthy computation.\n",
        "\n",
        "\n",
        "\n"
      ],
      "metadata": {
        "id": "gs9cBvhMG9x_"
      }
    },
    {
      "cell_type": "markdown",
      "source": [
        "\n",
        "## 6. Working with Scripts in Spyder\n",
        "\n",
        "- **Creating a Script**: Type your Python code into the editor window. For instance, you can type the `print('Hello World')` command.\n",
        "- **Running a Script**: After typing your code, click the \"Run File\" button to execute the script. The output will appear in the iPython console.\n",
        "\n",
        "  ![Running a script in Spyder](https://drive.google.com/uc?export=view&id=1mglRI8PiXoHJlNqOltBFnKVyVu9huCKP)\n",
        "\n",
        "- **Running a more complex script**: The editor is well suited to run multiple commands. Try typing the following commands into the editor, then running the script:\n",
        "```\n",
        "x = 4\n",
        "y = 2\n",
        "print(x+y)\n",
        "```\n",
        "  In this example, `x` is assigned the value of 4, `y` is assigned the value of 2, then the sum of `x+y` is printed in the console.\n",
        "  > **Note**: you can see the saved variables `x` and `y` appear in the \"Variable Explorer\" after you run the script. These variable are now saved in the kernal and can be recalled. For example, try typing `print(x)` in the console.\n",
        "  ![Running a script in Spyder](https://drive.google.com/uc?export=view&id=1nmklmBaK5bbrdo5l8_et4j8FMYe6aE0U)\n",
        "\n",
        "- **Saving Scripts**: Before running your script, it's a good practice to save it. You should create a dedicated folder for this course to organize your scripts. To save, navigate to `File > Save As` in Spyder's toolbar. Python scripts have a `.py` extension.\n",
        "\n",
        "   > **_Note on saving:_**  When you run a script using the \"Run File\" button, Spyder will automatically save the script.\n",
        "   >\n",
        "   > If the script in the editor panel has not been previously saved, Spyder will generate a new file. When generating a new file, a default file name like `untitled0.py` will be used, and the script will be saved to the current working directory in Spyder (which is displayed at the top of the editor panel in Spyder). For this reason, it is best practice to manually save your scripts so you can keep them organized with appropriate file names and in an organized directory for this class.\n",
        "   >\n",
        "   > If the script has previously been saved, clicking the \"Run File\" button will overwrite the previous version of the file. If you want to keep the previous version, make sure to manually save the file with a new filename before running the script. (You can tell if any changes have been made to the script since it was last saved by the appearance of an asterisk following the filename displayed in the tab at the top of the editor panel, e.g. `untitled0.py*`.)\n",
        "\n",
        "- **Opening Scripts**: To open a previously saved script, go to `File > Open`. While these `.py` files can be opened in text editors like Notepad, using Spyder offers specialized features for Python coding."
      ],
      "metadata": {
        "id": "dVa_N2QfD1zE"
      }
    },
    {
      "cell_type": "markdown",
      "source": [
        "## 7. Getting Started with Jupyter Notebook\n",
        "\n",
        "- **Open \"Anaconda Navigator\"**\n",
        "\n",
        "- **Launching Jupyter Notebook**: Launch the “Jupyter Notebook” application.\n",
        "\n",
        "  > You can also launch Jupyter Notebook directly from your saved applications without going through Anaconda Navigator.\n",
        "\n",
        "- **Jupyter Notebook Layout**: Jupyter notebook will open a browser-based Python enviroment. When first opened, you will see a list of local directories on your computer, that you can navigate to open an exsiting `.ipynb` file. For this tutorial, let's create a new notebook:\n",
        "  - **Open a new notebook**: Click on `New` at the top right of the Jupter Notebook window, then `Notebook: Python 3(ipykernel)`. This will open a new notebook using the iPython kernel\n",
        "  - **Let's try doing the same excerices from above using the Jupyter Notebook:\n",
        "    1. Type `print('Hello World')`\n",
        "      > To evaluate an indivudal command in a Jupyter notebook, click `Shift+Enter`. Otherwise you can highlight the input command you want to evaluate (by clicking on it), then press the `Run` button at the top of the window.\n",
        "\n",
        "      The string `Hello World` will appear as an output directly below your command once evaluated.\n",
        "    2. To enter a new command, just type it in the next blank line below the previous output. Let's try evaluating several commands, clicking `Shift+Enter` after each one:\n",
        "      ```\n",
        "      x = 4\n",
        "      ```\n",
        "      ```\n",
        "      y = 2\n",
        "      ```\n",
        "      ```\n",
        "      print(x+y)\n",
        "      ```\n",
        "    \n",
        "      Here we see the variables have been saved, and can be recalled in the same way that the iPython console worked in Spyder.\n",
        "    3. You can also evalute multiple lines at the same time. Individual commands can be seperated by pressing `Enter`, then an entire block of code can be evaluted by pressing `Shift+Enter`. Try evaluating these two lines togther:\n",
        "    ```\n",
        "    a=12\n",
        "    print(a+a)\n",
        "    ```\n",
        "    4. While there is no variable explorer in Juptyer Notebook, you can see which variables are saved by evaluating the command `whos`\n",
        "\n",
        "    ![Overview of Spyder IDE](https://drive.google.com/uc?export=view&id=1xEhShEXg8FrQPceA-2pgLUSWIXOIEUM5)"
      ],
      "metadata": {
        "id": "g4cwqKXUUK_J"
      }
    },
    {
      "cell_type": "markdown",
      "source": [
        "## 7. Getting Started with Jupyter Notebooks in Google Colab\n",
        "\n",
        "Instead of running on a local version of Python installed on your computer, Jupyter Notebooks can also be run by opening them on the [**Google Colab**](https://colab.google/) website. In fact, this tutorial is a Jupyter Notebook which is running in Google Colab. That means the code can be interactivly evaluted right here in this notebook in the same way as descibed above for Jupyter Notebook.\n",
        "\n",
        "- Try evaluting the commands below. First, click on the command, then press `Shift+Enter` or the `Run Cell` button that appears all the way to the left of the line you clicked on:"
      ],
      "metadata": {
        "id": "WtQYCxQZcHfK"
      }
    },
    {
      "cell_type": "code",
      "source": [
        "print('Hello World')"
      ],
      "metadata": {
        "colab": {
          "base_uri": "https://localhost:8080/"
        },
        "id": "xBBAOksJc_-c",
        "outputId": "f55e9887-53e6-4c59-94e0-803d6f688cf4"
      },
      "execution_count": null,
      "outputs": [
        {
          "output_type": "stream",
          "name": "stdout",
          "text": [
            "Hello World\n"
          ]
        }
      ]
    },
    {
      "cell_type": "code",
      "source": [
        "x = 100\n",
        "y = 12\n",
        "print(x*y)"
      ],
      "metadata": {
        "colab": {
          "base_uri": "https://localhost:8080/"
        },
        "id": "JANzlqAWdSVR",
        "outputId": "aa11941e-4d28-4750-f40d-4309aca4a098"
      },
      "execution_count": null,
      "outputs": [
        {
          "output_type": "stream",
          "name": "stdout",
          "text": [
            "1200\n"
          ]
        }
      ]
    },
    {
      "cell_type": "markdown",
      "source": [
        "- In contrast to Jupyter Notebook, Google Colab does have a variable explorer that you can access by clicking on the variables tab all the way to the left of the screen.\n",
        "- The free computing resources of Google Colab will only allow basic computations. If you run into a bottleneck, just transition to Jupyter Notebook which runs on your computer.\n",
        "- The top right of the window shows an indicator for your connection to the Google Colab server. You can connect by clicking `Connect` when you first open a notebook, or it will automatically connect when you evalute your first command using Python (it may take a second when it firsts connects)."
      ],
      "metadata": {
        "id": "DoSzd5s1d00O"
      }
    },
    {
      "cell_type": "markdown",
      "source": [
        "## Additional Resources\n",
        "\n",
        "Learning Python has never been more accessible, thanks to the plethora of online resources available today. Whether you're a visual learner who prefers video tutorials, someone who learns best by doing with interactive exercises, or someone who likes to delve deep into comprehensive documentation, there's something out there for everyone. Below is a list of just a few of the resources to help you on your Python journey. This is by no means exhaustive, but it's a great place to start if you want to supplement your learning.\n",
        "\n",
        "1. **W3Schools Python Tutorial**: A beginner-friendly tutorial with examples and exercises.\n",
        "   - [W3Schools Python Tutorial](https://www.w3schools.com/python/)\n",
        "\n",
        "2. **Automate the Boring Stuff with Python**: A popular book (available online for free) that teaches Python through practical projects.\n",
        "   - [Automate the Boring Stuff](https://automatetheboringstuff.com/)\n",
        "  \n",
        "3. **Think Python**: A beginner-friendly book that offers a hands-on approach to understanding Python. The book is available for free online.\n",
        "   - [Think Python 2nd Edition](https://greenteapress.com/thinkpython2/html/index.html)\n",
        "\n",
        "4. **Python Beginner's Guide**: A beginner-friendly introduction to Python.\n",
        "   - [Python.org's Beginner Guide](https://docs.python.org/3/tutorial/index.html)\n",
        "\n",
        "5. **Real Python**: Offers a mix of free and premium tutorials, articles, and videos on various Python topics.\n",
        "   - [Real Python Tutorials](https://realpython.com/)\n",
        "\n",
        "6. **Python Crash Course**: A hands-on, project-based introduction to Python.\n",
        "   - [Python Crash Course Book](https://nostarch.com/pythoncrashcourse2e) and [resources](https://ehmatthes.github.io/pcc_3e/)\n",
        "  \n",
        "7. **The Big Book of Small Python Projects**: Dive into Python with fun, practical projects that you can code and run. Suitable for beginners and available for free online.\n",
        "   - [The Big Book of Small Python Projects](https://inventwithpython.com/bigbookpython/)\n",
        "\n",
        "8. **Beyond the Basic Stuff with Python**: For those who have grasped the basics and are ready to move on to more advanced topics, this book provides deeper insights and practical examples. Available for free online.\n",
        "   - [Beyond the Basic Stuff with Python](https://inventwithpython.com/beyond/)\n",
        "\n",
        "9. **Python YouTube Channels**:\n",
        "   - [HagesLab Python Basics](https://www.youtube.com/playlist?list=PLuzde3Za2UKFgqJfcSynTJayAaeBuqAIM)\n",
        "   - [Corey Schafer's Python Tutorials](https://www.youtube.com/playlist?list=PL-osiE80TeTt2d9bfVyTiXJA-UTHn6WwU)\n",
        "   - [Sentdex Python Programming Tutorials](https://www.youtube.com/playlist?list=PLQVvvaa0QuDeAams7fkdcwOGBpGdHpXln)\n",
        "\n",
        "10. **Official Python Documentation**: A comprehensive resource that covers everything about Python.\n",
        "    - [Python 3.x Documentation](https://docs.python.org/3/)\n",
        "     \n",
        " 11. **Spyder Documentation**: Detailed documentation on how to use the Spyder IDE effectively.\n",
        "     - [Spyder Official Docs](https://docs.spyder-ide.org/current/index.html)\n",
        "\n",
        "Remember, while these resources are valuable, the best way to learn is by doing. Regular practice and application of what you learn will solidify your understanding.\n",
        "\n",
        "## FAQ\n",
        "\n",
        "- **Q**: I encountered an error in Spyder. What should I do?\n",
        "  - **A**: Don't panic! Errors provide feedback. Read the error message, understand it, and try to fix the issue. If stuck, remember the vast Python community is there to help. A quick Google search can often provide a solution."
      ],
      "metadata": {
        "id": "KyVuYB50D7jV"
      }
    }
  ]
}