{
  "nbformat": 4,
  "nbformat_minor": 0,
  "metadata": {
    "colab": {
      "provenance": [],
      "toc_visible": true,
      "authorship_tag": "ABX9TyOi/iPOZK1yv7gfsKK4Ij4f",
      "include_colab_link": true
    },
    "kernelspec": {
      "name": "python3",
      "display_name": "Python 3"
    },
    "language_info": {
      "name": "python"
    }
  },
  "cells": [
    {
      "cell_type": "markdown",
      "metadata": {
        "id": "view-in-github",
        "colab_type": "text"
      },
      "source": [
        "<a href=\"https://colab.research.google.com/github/charleshages/COT3502/blob/main/Tutorial_1.ipynb\" target=\"_parent\"><img src=\"https://colab.research.google.com/assets/colab-badge.svg\" alt=\"Open In Colab\"/></a>"
      ]
    },
    {
      "cell_type": "markdown",
      "source": [
        "# An Introduction to Python: 1. Getting Started\n",
        "\n",
        "## 1. What is Python?\n",
        "\n",
        "Python is a versatile programming language compatible with a wide range of operating systems, including Windows, Mac OS, Linux, and Android. As an interpreted language, Python can execute commands directly, eliminating the need for compilation.\n",
        "\n",
        "## 2. Why Python?\n",
        "\n",
        "- **Open-source**: Python is free and open-source (meaning you can download the entire source code)\n",
        "- **Versatility**: Python is one of the fastest-growing programming languages globally due to its versatility and ease of use. It's suitable for various applications, from app/game development, website development, machine learning and AI, image processing, as well as advanced math and data science.\n",
        "- **Community Support**: Python is backed by a large community of programmers. This vast support community ensures that solutions to common problems are readily available. If coders run into a stumbling block or have a question about something in Python, finding a solution is relatively easy; somebody is bound to have encountered the same problem.\n",
        "- **Academic Preference**: Python has become the go-to computing language in academia. It offers the same (or even better) functionality and simplicity as other paid software like MatLab and Mathematica, but for free.\n",
        "- **Real-world Applications**: Python is not just popular in academia; it's also widely adopted in the industry. Here are some notable examples:\n",
        "\n",
        "  - **Web Development**: Websites like **Instagram**, **Pinterest**, and **Spotify** use Python, particularly the Django framework, for their backend.\n",
        "\n",
        "  - **Data Analysis and Visualization**: Companies like **Netflix** and **Dropbox** use Python for data analysis to gain insights and improve their services.\n",
        "\n",
        "  - **Artificial Intelligence and Machine Learning**: **Google** uses Python for its machine learning applications, and its TensorFlow library, one of the most popular ML libraries, is written in Python.\n",
        "\n",
        "  - **Finance**: **J.P. Morgan** and other major banks use Python for financial market forecasting.\n",
        "\n",
        "  - **Gaming**: Games like **Civilization IV** have used Python for various purposes, including scripting.\n",
        "\n",
        "  - **Scientific Computing**: Organizations like **NASA** and **CERN** use Python for scientific programming and data analysis.\n",
        "\n",
        "  - **Automation**: Many companies, big and small, use Python to automate repetitive tasks, from data entry to testing.\n",
        "\n",
        "  Python's versatility ensures its adoption across a myriad of applications, from web apps to scientific research.\n",
        "\n",
        "## 3. Installation\n",
        "\n",
        "- **Anaconda Distribution**: We recommend the Anaconda distribution of Python for this course. It bundles many essential packages beneficial for engineers and scientists. The distribution is open source and free. Along with these packages, Anaconda includes several applications that simplify various Python tasks. In this course, we'll primarily focus on **Spyder** and **JupyterLab**.\n",
        "\n",
        "  - **Spyder** (an acronym for **S**cientific **Py**thon **D**evelopment **E**nvi**R**onment) offers a rich set of features for code editing, visualization, and debugging, especially tailored for scientific and mathematical applications. It's a comprehensive integrated development environment (IDE) where you can write (in `.py` files) and execute Python scripts. Additionally, it provides an interactive console. Spyder is particularly useful for developing longer or more complex scripts.\n",
        "\n",
        "  - **JupyterLab** provides an interactive Python *notebook* environment (files have the `.ipynb` extension). In JupyterLab, you can evaluate Python statements interactively, often in a line-by-line manner, making it ideal for interactive analysis or coding in a narrative nature. It's especially suited for simpler Python tasks or when you want to interleave code with text.\n",
        "    - Jupyter Notebooks can also be run on the popular [**Google Colab**](https://colab.google/) website, which is a service which hosts computing resources, allowing you to run Python without a local installation on your computer! We will use this service for interactive coding in Python during lectures.  \n",
        "    \n",
        "  - It's important to note that both Spyder and JupyterLab execute Python in the same way. The primary distinction lies in their user interfaces and the workflows they cater to. Both are renowned in the fields of data science, machine learning, and scientific computing. Throughout this course, we'll explore both environments, allowing you to determine which interface aligns best with your tasks and preferences.\n",
        "\n",
        "- **Installation Steps**:\n",
        "  1. Visit [Anaconda's download page](https://www.anaconda.com/download).\n",
        "  2. Download the installer.\n",
        "  3. Follow the onscreen instructions. It's simplest to use default locations and options for everything.\n",
        "\n",
        "## 4. Getting Started with Spyder\n",
        "\n",
        "- **Launching Spyder**: Once you've installed Anaconda, launch the “Spyder” application. You can find it in your computer's program list or through the “Anaconda Navigator”.\n",
        "- **Spyder Layout**: Upon opening “Spyder”, you'll notice three main panels:\n",
        "  1. **Editor Window (Left)**: Where you can write and save Python scripts.\n",
        "  2. **Variable Explorer and File Explorer (Top Right)**: Displays variables in use and allows for easy file navigation.\n",
        "  3. **iPython Console (Bottom Right)**: An interactive Python shell to execute commands.\n",
        "\n",
        "  If this is your first time using Spyder, it may be helpful to click the “Start Tour” button when you first open the program.\n",
        "\n",
        "  ![Overview of Spyder IDE](../assets/tutorial1/Tutorial1_1.png)\n",
        "\n",
        "## 5. Working with the iPython console in Spyder\n",
        "\n",
        "The most basic way to run individual statements can be run in Python\n",
        "\n",
        "- **Your First Command**: In the iPython console (Bottom Right), type the following command and hit Enter:\n",
        "  ```python\n",
        "  print('Hello World')\n",
        "\n",
        "## 5. Working with Scripts in Spyder\n",
        "\n",
        "- **Creating a Script**: Type your Python code into the editor window. For instance, you can type the `print('Hello World')` command.\n",
        "- **Running a Script**: After typing your code, click the \"Run File\" button to execute the script. The output will appear in the iPython console.\n",
        "\n",
        "  ![Running a script in Spyder](../assets/tutorial1/Tutorial1_2.png)\n",
        "\n",
        "- **Saving Scripts**: Before running your script, it's a good practice to save it. You should create a dedicated folder for this course to organize your scripts. To save, navigate to `File > Save As` in Spyder's toolbar. Python scripts have a `.py` extension.\n",
        "\n",
        "   > **_Note on saving:_**  When you run a script using the \"Run File\" button, Spyder will automatically save the script.\n",
        "   >\n",
        "   > If the script in the editor panel has not been previously saved, Spyder will generate a new file. When generating a new file, a default file name like `untitled0.py` will be used, and the script will be saved to the current working directory in Spyder (which is displayed on the top right of the Spyder IDE window). For this reason, it is best practice to manually save your scripts so you can keep them organized with appropriate file names and in an organized directory for this class.\n",
        "   >\n",
        "   > If the script has previously been saved, clicking the \"Run File\" button will overwrite the previous version of the file. If you want to keep the previous version, make sure to manually save the file with a new filename before running the script. (You can tell if any changes have been made to the script since it was last saved by the appearance of an asterisk following the filename displayed at the top of the editor panel.)\n",
        "\n",
        "- **Opening Scripts**: To open a previously saved script, go to `File > Open`. While these `.py` files can be opened in text editors like Notepad, using Spyder offers specialized features for Python coding.\n",
        "\n",
        "## Terminology\n",
        "\n",
        "- **Script**: A set of instructions written in a programming language.\n",
        "- **IDE (Integrated Development Environment)**: Software that provides comprehensive tools for software development, like Spyder for Python.\n",
        "-\n",
        "## Additional Resources\n",
        "\n",
        "Learning Python has never been more accessible, thanks to the plethora of online resources available today. Whether you're a visual learner who prefers video tutorials, someone who learns best by doing with interactive exercises, or someone who likes to delve deep into comprehensive documentation, there's something out there for everyone. Below is a list of just a few of the resources to help you on your Python journey. This is by no means exhaustive, but it's a great place to start if you want to supplement your learning.\n",
        "\n",
        "1. **W3Schools Python Tutorial**: A beginner-friendly tutorial with examples and exercises.\n",
        "   - [W3Schools Python Tutorial](https://www.w3schools.com/python/)\n",
        "\n",
        "2. **Automate the Boring Stuff with Python**: A popular book (available online for free) that teaches Python through practical projects.\n",
        "   - [Automate the Boring Stuff](https://automatetheboringstuff.com/)\n",
        "  \n",
        "3. **Think Python**: A beginner-friendly book that offers a hands-on approach to understanding Python. The book is available for free online.\n",
        "   - [Think Python 2nd Edition](https://greenteapress.com/thinkpython2/html/index.html)\n",
        "\n",
        "4. **Python Beginner's Guide**: A beginner-friendly introduction to Python.\n",
        "   - [Python.org's Beginner Guide](https://docs.python.org/3/tutorial/index.html)\n",
        "\n",
        "5. **Real Python**: Offers a mix of free and premium tutorials, articles, and videos on various Python topics.\n",
        "   - [Real Python Tutorials](https://realpython.com/)\n",
        "\n",
        "6. **Python Crash Course**: A hands-on, project-based introduction to Python.\n",
        "   - [Python Crash Course Book](https://nostarch.com/pythoncrashcourse2e) and [resources](https://ehmatthes.github.io/pcc_3e/)\n",
        "  \n",
        "7. **The Big Book of Small Python Projects**: Dive into Python with fun, practical projects that you can code and run. Suitable for beginners and available for free online.\n",
        "   - [The Big Book of Small Python Projects](https://inventwithpython.com/bigbookpython/)\n",
        "\n",
        "8. **Beyond the Basic Stuff with Python**: For those who have grasped the basics and are ready to move on to more advanced topics, this book provides deeper insights and practical examples. Available for free online.\n",
        "   - [Beyond the Basic Stuff with Python](https://inventwithpython.com/beyond/)\n",
        "\n",
        "9. **Python YouTube Channels**:\n",
        "   - [HagesLab Python Basics](https://www.youtube.com/playlist?list=PLuzde3Za2UKFgqJfcSynTJayAaeBuqAIM)\n",
        "   - [Corey Schafer's Python Tutorials](https://www.youtube.com/playlist?list=PL-osiE80TeTt2d9bfVyTiXJA-UTHn6WwU)\n",
        "   - [Sentdex Python Programming Tutorials](https://www.youtube.com/playlist?list=PLQVvvaa0QuDeAams7fkdcwOGBpGdHpXln)\n",
        "\n",
        "10. **Official Python Documentation**: A comprehensive resource that covers everything about Python.\n",
        "    - [Python 3.x Documentation](https://docs.python.org/3/)\n",
        "     \n",
        " 11. **Spyder Documentation**: Detailed documentation on how to use the Spyder IDE effectively.\n",
        "     - [Spyder Official Docs](https://docs.spyder-ide.org/current/index.html)\n",
        "\n",
        "Remember, while these resources are valuable, the best way to learn is by doing. Regular practice and application of what you learn will solidify your understanding.\n",
        "\n",
        "## FAQ\n",
        "\n",
        "- **Q**: I encountered an error in Spyder. What should I do?\n",
        "  - **A**: Don't panic! Errors provide feedback. Read the error message, understand it, and try to fix the issue. If stuck, remember the vast Python community is there to help. A quick Google search can often provide a solution.\n",
        "\n",
        "---\n",
        "\n",
        "**Congratulations!** You wrote your first computer program!\n",
        "\n"
      ],
      "metadata": {
        "id": "BaomJpjbA8SH"
      }
    },
    {
      "cell_type": "code",
      "execution_count": null,
      "metadata": {
        "id": "74ofMZNn6e63"
      },
      "outputs": [],
      "source": [
        "print('Hello, World')"
      ]
    },
    {
      "cell_type": "code",
      "source": [
        "x = 4"
      ],
      "metadata": {
        "id": "r1i4XcTf6opJ"
      },
      "execution_count": null,
      "outputs": []
    },
    {
      "cell_type": "code",
      "source": [
        "y = 2"
      ],
      "metadata": {
        "id": "3m6fveDM6pwi"
      },
      "execution_count": null,
      "outputs": []
    },
    {
      "cell_type": "code",
      "source": [
        "print(x+y)"
      ],
      "metadata": {
        "id": "hvX7QNh76qea"
      },
      "execution_count": null,
      "outputs": []
    },
    {
      "cell_type": "code",
      "source": [
        "z = x**2\n",
        "print(z+x)"
      ],
      "metadata": {
        "id": "xEevW5A56rMU"
      },
      "execution_count": null,
      "outputs": []
    },
    {
      "cell_type": "code",
      "source": [
        "whos"
      ],
      "metadata": {
        "id": "YFJCHZo-6v-I"
      },
      "execution_count": null,
      "outputs": []
    },
    {
      "cell_type": "code",
      "source": [
        "del x"
      ],
      "metadata": {
        "id": "IKyyc5NV6xVw"
      },
      "execution_count": null,
      "outputs": []
    },
    {
      "cell_type": "code",
      "source": [
        "import matplotlib"
      ],
      "metadata": {
        "id": "Ip45csUg7Bsb"
      },
      "execution_count": null,
      "outputs": []
    },
    {
      "cell_type": "code",
      "source": [],
      "metadata": {
        "id": "PNSuUG087IDi"
      },
      "execution_count": null,
      "outputs": []
    },
    {
      "cell_type": "markdown",
      "source": [],
      "metadata": {
        "id": "HY2-3ITjA7IQ"
      }
    },
    {
      "cell_type": "markdown",
      "source": [],
      "metadata": {
        "id": "gXSyUK4tA6TO"
      }
    }
  ]
}